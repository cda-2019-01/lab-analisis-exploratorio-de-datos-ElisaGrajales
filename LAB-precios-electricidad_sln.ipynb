{
 "cells": [
  {
   "cell_type": "markdown",
   "metadata": {},
   "source": [
    "Evolución de los Precios de la Electricidad\n",
    "==="
   ]
  },
  {
   "cell_type": "markdown",
   "metadata": {},
   "source": [
    "# Instrucciones"
   ]
  },
  {
   "cell_type": "markdown",
   "metadata": {},
   "source": [
    "En el archivo `precios.zip`  se encuentran los archivos `Precio_Bolsa_Nacional_($kwh)_ano.xls` en formato de Microsoft Excel, los cuales contienen los precios históricos horarios de la electricidad para el mercado eléctrico Colombiano entre los años 1995 y 2017 en COL-PESOS/kWh. A partir de la información suministrada realice las siguientes actividades. "
   ]
  },
  {
   "cell_type": "markdown",
   "metadata": {},
   "source": [
    "**1.--** Lea los archivos y cree una tabla única concatenando la información para cada uno de los años. Debe transformar la tabla de tal forma que quede con las columnas `Fecha`, `Hora` y `Precio` (únicamente tres columnas)."
   ]
  },
  {
   "cell_type": "code",
   "execution_count": 1,
   "metadata": {},
   "outputs": [],
   "source": [
    "#Import librerias\n",
    "from zipfile import ZipFile\n",
    "import pandas as pd\n",
    "import matplotlib.pyplot as plt\n",
    "import datetime\n",
    "import numpy as np\n"
   ]
  },
  {
   "cell_type": "code",
   "execution_count": 27,
   "metadata": {},
   "outputs": [
    {
     "data": {
      "text/html": [
       "<div>\n",
       "<style scoped>\n",
       "    .dataframe tbody tr th:only-of-type {\n",
       "        vertical-align: middle;\n",
       "    }\n",
       "\n",
       "    .dataframe tbody tr th {\n",
       "        vertical-align: top;\n",
       "    }\n",
       "\n",
       "    .dataframe thead th {\n",
       "        text-align: right;\n",
       "    }\n",
       "</style>\n",
       "<table border=\"1\" class=\"dataframe\">\n",
       "  <thead>\n",
       "    <tr style=\"text-align: right;\">\n",
       "      <th></th>\n",
       "      <th>Fecha</th>\n",
       "      <th>Hora</th>\n",
       "      <th>Precio</th>\n",
       "    </tr>\n",
       "  </thead>\n",
       "  <tbody>\n",
       "    <tr>\n",
       "      <td>0</td>\n",
       "      <td>1996-01-01</td>\n",
       "      <td>0</td>\n",
       "      <td>25.000000</td>\n",
       "    </tr>\n",
       "    <tr>\n",
       "      <td>1</td>\n",
       "      <td>1996-01-02</td>\n",
       "      <td>0</td>\n",
       "      <td>10.000000</td>\n",
       "    </tr>\n",
       "    <tr>\n",
       "      <td>2</td>\n",
       "      <td>1996-01-03</td>\n",
       "      <td>0</td>\n",
       "      <td>12.000000</td>\n",
       "    </tr>\n",
       "    <tr>\n",
       "      <td>3</td>\n",
       "      <td>1996-01-04</td>\n",
       "      <td>0</td>\n",
       "      <td>12.800000</td>\n",
       "    </tr>\n",
       "    <tr>\n",
       "      <td>4</td>\n",
       "      <td>1996-01-05</td>\n",
       "      <td>0</td>\n",
       "      <td>18.000000</td>\n",
       "    </tr>\n",
       "    <tr>\n",
       "      <td>...</td>\n",
       "      <td>...</td>\n",
       "      <td>...</td>\n",
       "      <td>...</td>\n",
       "    </tr>\n",
       "    <tr>\n",
       "      <td>362539</td>\n",
       "      <td>2004-12-27</td>\n",
       "      <td>23</td>\n",
       "      <td>67.431239</td>\n",
       "    </tr>\n",
       "    <tr>\n",
       "      <td>362540</td>\n",
       "      <td>2004-12-28</td>\n",
       "      <td>23</td>\n",
       "      <td>65.931239</td>\n",
       "    </tr>\n",
       "    <tr>\n",
       "      <td>362541</td>\n",
       "      <td>2004-12-29</td>\n",
       "      <td>23</td>\n",
       "      <td>65.931239</td>\n",
       "    </tr>\n",
       "    <tr>\n",
       "      <td>362542</td>\n",
       "      <td>2004-12-30</td>\n",
       "      <td>23</td>\n",
       "      <td>67.431239</td>\n",
       "    </tr>\n",
       "    <tr>\n",
       "      <td>362543</td>\n",
       "      <td>2004-12-31</td>\n",
       "      <td>23</td>\n",
       "      <td>69.431239</td>\n",
       "    </tr>\n",
       "  </tbody>\n",
       "</table>\n",
       "<p>362544 rows × 3 columns</p>\n",
       "</div>"
      ],
      "text/plain": [
       "             Fecha Hora     Precio\n",
       "0       1996-01-01    0  25.000000\n",
       "1       1996-01-02    0  10.000000\n",
       "2       1996-01-03    0  12.000000\n",
       "3       1996-01-04    0  12.800000\n",
       "4       1996-01-05    0  18.000000\n",
       "...            ...  ...        ...\n",
       "362539  2004-12-27   23  67.431239\n",
       "362540  2004-12-28   23  65.931239\n",
       "362541  2004-12-29   23  65.931239\n",
       "362542  2004-12-30   23  67.431239\n",
       "362543  2004-12-31   23  69.431239\n",
       "\n",
       "[362544 rows x 3 columns]"
      ]
     },
     "execution_count": 27,
     "metadata": {},
     "output_type": "execute_result"
    }
   ],
   "source": [
    "precios = pd.DataFrame()\n",
    "\n",
    "Datos = ZipFile('precios.zip')\n",
    "\n",
    "for Archivo in Datos.infolist():\n",
    "    if (Archivo.filename.endswith('.xlsx') and not(Archivo.filename.startswith('__MACOSX'))):\n",
    "        d = pd.read_excel(Datos.open(Archivo.filename), header=2)\n",
    "        if d.columns[0].startswith('Unname'):\n",
    "            nheader = d.iloc[0]\n",
    "            d = d[1:]\n",
    "            d = d.rename(columns = nheader)\n",
    "        d = d.iloc[:,0:25]\n",
    "        precios = precios.append(d)\n",
    "df = pd.melt(precios,id_vars='Fecha', var_name = 'Hora', value_name = 'Precio')\n",
    "df "
   ]
  },
  {
   "cell_type": "markdown",
   "metadata": {},
   "source": [
    "**2.--** Compute e imprima el número de registros con datos faltantes."
   ]
  },
  {
   "cell_type": "code",
   "execution_count": 30,
   "metadata": {},
   "outputs": [
    {
     "data": {
      "text/plain": [
       "181510"
      ]
     },
     "execution_count": 30,
     "metadata": {},
     "output_type": "execute_result"
    }
   ],
   "source": [
    "Datos_falt = df['Precio'].isnull().sum()\n",
    "Datos_falt"
   ]
  },
  {
   "cell_type": "markdown",
   "metadata": {},
   "source": [
    "**3.--** Compute e imprima el número de registros duplicados."
   ]
  },
  {
   "cell_type": "code",
   "execution_count": 32,
   "metadata": {},
   "outputs": [
    {
     "data": {
      "text/plain": [
       "3919"
      ]
     },
     "execution_count": 32,
     "metadata": {},
     "output_type": "execute_result"
    }
   ],
   "source": [
    "df['Fecha'] = pd.to_datetime(df['Fecha'],infer_datetime_format=True)\n",
    "df = df.sort_values('Fecha', ascending = True)\n",
    "Duplicados = df.duplicated().sum()\n",
    "Duplicados"
   ]
  },
  {
   "cell_type": "markdown",
   "metadata": {},
   "source": [
    "**4.--** Elimine los registros con datos duplicados o datos faltantes, e imprima la cantidad de registros que quedan (registros completos)."
   ]
  },
  {
   "cell_type": "code",
   "execution_count": 34,
   "metadata": {},
   "outputs": [
    {
     "data": {
      "text/plain": [
       "179275"
      ]
     },
     "execution_count": 34,
     "metadata": {},
     "output_type": "execute_result"
    }
   ],
   "source": [
    "df = df[df.Precio.notnull()]\n",
    "df = df[df.Fecha.notnull()]\n",
    "df = df.drop_duplicates()\n",
    "len(df)"
   ]
  },
  {
   "cell_type": "markdown",
   "metadata": {},
   "source": [
    "**5.--** Compute y grafique el precio primedio diario."
   ]
  },
  {
   "cell_type": "code",
   "execution_count": 41,
   "metadata": {},
   "outputs": [
    {
     "data": {
      "text/plain": [
       "Text(0.5, 0, 'Días')"
      ]
     },
     "execution_count": 41,
     "metadata": {},
     "output_type": "execute_result"
    },
    {
     "data": {
      "image/png": "[encoded data removed]",
      "text/plain": [
       "<Figure size 1224x432 with 1 Axes>"
      ]
     },
     "metadata": {
      "needs_background": "light"
     },
     "output_type": "display_data"
    }
   ],
   "source": [
    "df['Dia'] = pd.DatetimeIndex(df['Fecha']).day\n",
    "df.set_index(df[\"Fecha\"],inplace=True)\n",
    "dfdia = df.groupby('Dia').mean()['Precio']\n",
    "plt.figure(figsize=(17,6))\n",
    "plt.bar(range(len(dfdia)), dfdia, color='yellow')\n",
    "plt.xticks(range(len(dfdia)), list(dfdia.index), rotation='vertical')\n",
    "plt.title('Precio Promedio Diario')\n",
    "plt.xlabel('Días')"
   ]
  },
  {
   "cell_type": "markdown",
   "metadata": {},
   "source": [
    "**6.--** Compute y grafique el precio máximo por mes."
   ]
  },
  {
   "cell_type": "code",
   "execution_count": 62,
   "metadata": {},
   "outputs": [
    {
     "data": {
      "image/png": "[encoded data removed]",
      "text/plain": [
       "<Figure size 1224x432 with 1 Axes>"
      ]
     },
     "metadata": {
      "needs_background": "light"
     },
     "output_type": "display_data"
    }
   ],
   "source": [
    "plt.figure(figsize=(17,6))\n",
    "plt.bar(range(len(dfmesmax)), dfmesmax, color='red')\n",
    "plt.xticks(range(len(dfmesmax)), list(dfmesmax.index), rotation='vertical',color='red')\n",
    "plt.title('Máximo precio mensual')\n",
    "plt.xlabel('Mes')\n",
    "plt.ylabel('Precio');"
   ]
  },
  {
   "cell_type": "markdown",
   "metadata": {},
   "source": [
    "**7.--** Compute y grafique el precio mínimo mensual."
   ]
  },
  {
   "cell_type": "code",
   "execution_count": 66,
   "metadata": {},
   "outputs": [
    {
     "data": {
      "text/plain": [
       "Text(0, 0.5, 'Precio')"
      ]
     },
     "execution_count": 66,
     "metadata": {},
     "output_type": "execute_result"
    },
    {
     "data": {
      "image/png": "[encoded data removed]",
      "text/plain": [
       "<Figure size 1224x432 with 1 Axes>"
      ]
     },
     "metadata": {
      "needs_background": "light"
     },
     "output_type": "display_data"
    }
   ],
   "source": [
    "df['Mes'] = df['Fecha'].dt.month\n",
    "df2 = df.groupby('Mes')['Precio'].min()\n",
    "plt.figure(figsize=(17,6))\n",
    "plt.plot(df2, color='red')\n",
    "plt.title('Minimo precio mesual')\n",
    "plt.xlabel('Mes');\n",
    "plt.ylabel('Precio')"
   ]
  },
  {
   "cell_type": "markdown",
   "metadata": {},
   "source": [
    "**8.--** Haga un gráfico para comparar el precio máximo del mes (para cada mes) y el precio promedio mensual."
   ]
  },
  {
   "cell_type": "code",
   "execution_count": 68,
   "metadata": {},
   "outputs": [
    {
     "data": {
      "text/plain": [
       "Text(0, 0.5, 'Mes')"
      ]
     },
     "execution_count": 68,
     "metadata": {},
     "output_type": "execute_result"
    },
    {
     "data": {
      "image/png": "[encoded data removed]",
      "text/plain": [
       "<Figure size 1152x432 with 2 Axes>"
      ]
     },
     "metadata": {
      "needs_background": "light"
     },
     "output_type": "display_data"
    }
   ],
   "source": [
    "plt.figure(figsize=(16, 6))\n",
    "plt.subplot(1, 2, 1)\n",
    "plt.barh(range(len(dfmes)), dfmes, color='red')\n",
    "plt.yticks(range(len(dfmes)), list(dfmes.index), rotation='horizontal')\n",
    "plt.title('Precio promedio mensual')\n",
    "plt.xlabel('Promedio mensual')\n",
    "plt.ylabel('Mes')\n",
    "plt.subplot(1, 2, 2)\n",
    "plt.barh(range(len(dfmesmax)), dfmesmax, color='Yellow')\n",
    "plt.yticks(range(len(dfmesmax)), list(dfmesmax.index), rotation='horizontal')\n",
    "plt.title('Precio maximo mensual')\n",
    "plt.xlabel('Precio máximo')\n",
    "plt.ylabel('Mes')"
   ]
  },
  {
   "cell_type": "markdown",
   "metadata": {},
   "source": [
    "**9.--** Haga un histograma que muestre a que horas se produce el máximo precio diario para los días laborales."
   ]
  },
  {
   "cell_type": "code",
   "execution_count": 122,
   "metadata": {},
   "outputs": [
    {
     "data": {
      "text/plain": [
       "Text(0, 0.5, 'Frecuencia')"
      ]
     },
     "execution_count": 122,
     "metadata": {},
     "output_type": "execute_result"
    },
    {
     "data": {
      "image/png": "[encoded data removed]",
      "text/plain": [
       "<Figure size 1152x360 with 1 Axes>"
      ]
     },
     "metadata": {
      "needs_background": "light"
     },
     "output_type": "display_data"
    }
   ],
   "source": [
    "df['duplicados'] = df['Fecha'].map(str) +'-'+ df['Hora'].map(str) +'-'+ df['Precio'].map(str) \n",
    "f_duplicados = df[df.duplicated(['duplicados'])]\n",
    "df2 = df.copy()\n",
    "df2 = df2.drop(columns=['Fecha', 'duplicados'])\n",
    "df2.reset_index(inplace=True)\n",
    "df2['Nombre_Dia'] =  df2[['Fecha']].apply(lambda x: datetime.datetime.strftime(x['Fecha'], '%A'), axis=1)\n",
    "week_days = ['Monday', 'Tuesday', 'Wednesday', 'Thursday', 'Friday']\n",
    "df_weekdays = df2[(df2['Nombre_Dia'] == 'Monday') | (df2['Nombre_Dia'] == 'Tuesday')| (df2['Nombre_Dia'] == 'Wednesday')| (df2['Nombre_Dia'] == 'Thursday')| (df2['Nombre_Dia'] == 'Friday')]\n",
    "df2 = df_weekdays.groupby('Fecha').agg({'Precio': np.max}) \n",
    "df2.reset_index(inplace=True)\n",
    "df3 = pd.merge(df_weekdays, df2, on=['Fecha','Precio'], how='inner')\n",
    "hours = list(map(int,df3['Hora'].tolist()))\n",
    "plt.figure(figsize=(16,5))\n",
    "plt.hist(hours, color='green', bins=24)\n",
    "plt.title('Precio maximo diario en dias laborales')\n",
    "plt.xlabel('Horas')\n",
    "plt.ylabel('Frecuencia')"
   ]
  },
  {
   "cell_type": "markdown",
   "metadata": {},
   "source": [
    "**10.--** Haga un histograma que muestre a que horas se produce el máximo precio diario para los días sabado."
   ]
  },
  {
   "cell_type": "code",
   "execution_count": 123,
   "metadata": {},
   "outputs": [
    {
     "data": {
      "text/plain": [
       "Text(0, 0.5, 'Frecuencia')"
      ]
     },
     "execution_count": 123,
     "metadata": {},
     "output_type": "execute_result"
    },
    {
     "data": {
      "image/png": "[encoded data removed]",
      "text/plain": [
       "<Figure size 1152x360 with 1 Axes>"
      ]
     },
     "metadata": {
      "needs_background": "light"
     },
     "output_type": "display_data"
    }
   ],
   "source": [
    "df['duplicados'] = df['Fecha'].map(str) +'-'+ df['Hora'].map(str) +'-'+ df['Precio'].map(str) \n",
    "f_duplicados = df[df.duplicated(['duplicados'])]\n",
    "df2 = df.copy()\n",
    "df2 = df2.drop(columns=['Fecha', 'duplicados'])\n",
    "df2.reset_index(inplace=True)\n",
    "df2['Nombre_Dia'] =  df2[['Fecha']].apply(lambda x: datetime.datetime.strftime(x['Fecha'], '%A'), axis=1)\n",
    "df_weekdays = df2[(df2['Nombre_Dia'] == 'Saturday') ]\n",
    "df2 = df_weekdays.groupby('Fecha').agg({'Precio': np.max}) \n",
    "df2.reset_index(inplace=True)\n",
    "df3 = pd.merge(df_weekdays, df2, on=['Fecha','Precio'], how='inner')\n",
    "hours = list(map(int,df3['Hora'].tolist()))\n",
    "plt.figure(figsize=(16,5))\n",
    "plt.hist(pd.to_numeric(df3['Hora']), color='red', bins=24)\n",
    "plt.title('Precio máximo diario el sábado')\n",
    "plt.xlabel('Horas')\n",
    "plt.ylabel('Frecuencia')"
   ]
  },
  {
   "cell_type": "markdown",
   "metadata": {},
   "source": [
    "**11.--** Haga un histograma que muestre a que horas se produce el máximo precio diario para los días domingo."
   ]
  },
  {
   "cell_type": "code",
   "execution_count": 124,
   "metadata": {},
   "outputs": [
    {
     "data": {
      "text/plain": [
       "Text(0, 0.5, 'Cantidad')"
      ]
     },
     "execution_count": 124,
     "metadata": {},
     "output_type": "execute_result"
    },
    {
     "data": {
      "image/png": "[encoded data removed]",
      "text/plain": [
       "<Figure size 1152x360 with 1 Axes>"
      ]
     },
     "metadata": {
      "needs_background": "light"
     },
     "output_type": "display_data"
    }
   ],
   "source": [
    "df['duplicados'] = df['Fecha'].map(str) +'-'+ df['Hora'].map(str) +'-'+ df['Precio'].map(str) \n",
    "f_duplicados = df[df.duplicated(['duplicados'])]\n",
    "df2 = df.copy()\n",
    "df2 = df2.drop(columns=['Fecha', 'duplicados'])\n",
    "df2.reset_index(inplace=True)\n",
    "df2['Nombre_Dia'] =  df2[['Fecha']].apply(lambda x: datetime.datetime.strftime(x['Fecha'], '%A'), axis=1)\n",
    "df_weekdays = df2[(df2['Nombre_Dia'] == 'Sunday') ]\n",
    "df2 = df_weekdays.groupby('Fecha').agg({'Precio': np.max}) \n",
    "df2.reset_index(inplace=True)\n",
    "df3 = pd.merge(df_weekdays, df2, on=['Fecha','Precio'], how='inner')\n",
    "hours = list(map(int,df3['Hora'].tolist()))\n",
    "plt.figure(figsize=(16,5))\n",
    "plt.hist(hours, bins=24)\n",
    "plt.title('Precio máximo diario el día domingo')\n",
    "plt.xlabel('Horas')\n",
    "plt.ylabel('Cantidad')"
   ]
  },
  {
   "cell_type": "markdown",
   "metadata": {},
   "source": [
    "**12.--** Imprima una tabla con la fecha y el valor más bajo por año del precio de bolsa."
   ]
  },
  {
   "cell_type": "code",
   "execution_count": 125,
   "metadata": {},
   "outputs": [
    {
     "data": {
      "text/html": [
       "<div>\n",
       "<style scoped>\n",
       "    .dataframe tbody tr th:only-of-type {\n",
       "        vertical-align: middle;\n",
       "    }\n",
       "\n",
       "    .dataframe tbody tr th {\n",
       "        vertical-align: top;\n",
       "    }\n",
       "\n",
       "    .dataframe thead th {\n",
       "        text-align: right;\n",
       "    }\n",
       "</style>\n",
       "<table border=\"1\" class=\"dataframe\">\n",
       "  <thead>\n",
       "    <tr style=\"text-align: right;\">\n",
       "      <th></th>\n",
       "      <th>Fecha</th>\n",
       "      <th>min</th>\n",
       "    </tr>\n",
       "  </thead>\n",
       "  <tbody>\n",
       "    <tr>\n",
       "      <td>153</td>\n",
       "      <td>1995-07-26</td>\n",
       "      <td>0.000000</td>\n",
       "    </tr>\n",
       "    <tr>\n",
       "      <td>17423</td>\n",
       "      <td>1997-07-15</td>\n",
       "      <td>10.882310</td>\n",
       "    </tr>\n",
       "    <tr>\n",
       "      <td>26057</td>\n",
       "      <td>1998-07-09</td>\n",
       "      <td>13.847330</td>\n",
       "    </tr>\n",
       "    <tr>\n",
       "      <td>32328</td>\n",
       "      <td>1999-03-28</td>\n",
       "      <td>18.359530</td>\n",
       "    </tr>\n",
       "    <tr>\n",
       "      <td>41039</td>\n",
       "      <td>2000-03-25</td>\n",
       "      <td>21.531167</td>\n",
       "    </tr>\n",
       "  </tbody>\n",
       "</table>\n",
       "</div>"
      ],
      "text/plain": [
       "           Fecha        min\n",
       "153   1995-07-26   0.000000\n",
       "17423 1997-07-15  10.882310\n",
       "26057 1998-07-09  13.847330\n",
       "32328 1999-03-28  18.359530\n",
       "41039 2000-03-25  21.531167"
      ]
     },
     "execution_count": 125,
     "metadata": {},
     "output_type": "execute_result"
    }
   ],
   "source": [
    "df['duplicados'] = df['Fecha'].map(str) +'-'+ df['Hora'].map(str) +'-'+ df['Precio'].map(str) \n",
    "f_duplicados = df[df.duplicated(['duplicados'])]\n",
    "df2 = df.copy()\n",
    "df2 = df2.drop(columns=['Fecha', 'duplicados', 'Mes'])\n",
    "df2.reset_index(inplace=True)\n",
    "df2['Year'] =  df2[['Fecha']].apply(lambda x: datetime.datetime.strftime(x['Fecha'], '%Y'), axis=1)\n",
    "df3 = df2.groupby('Year').agg({'Precio': np.min}) \n",
    "df3.reset_index(inplace=True)\n",
    "df3.columns = [\"Year\",\"min\"]\n",
    "df4 = pd.merge(df3, df2, on = ['Year'], how ='inner')\n",
    "df4 = df4[(df4['min'] == df4['Precio'])]\n",
    "df4 = df4[['Fecha','min']].drop_duplicates(subset='min', keep=\"first\")\n",
    "df4.head()"
   ]
  },
  {
   "cell_type": "markdown",
   "metadata": {},
   "source": [
    "**13.--** Haga una gráfica en que se muestre el precio promedio diario y el precio promedio mensual."
   ]
  },
  {
   "cell_type": "code",
   "execution_count": 127,
   "metadata": {},
   "outputs": [
    {
     "data": {
      "text/plain": [
       "Text(0.5, 0, 'Año')"
      ]
     },
     "execution_count": 127,
     "metadata": {},
     "output_type": "execute_result"
    },
    {
     "data": {
      "image/png": "[encoded data removed]",
      "text/plain": [
       "<Figure size 1152x360 with 1 Axes>"
      ]
     },
     "metadata": {
      "needs_background": "light"
     },
     "output_type": "display_data"
    }
   ],
   "source": [
    "PromedioDiario = df[['Fecha','Precio']].groupby(by = pd.Grouper(key='Fecha', freq='D')).mean()\n",
    "PromedioMensual = df[['Fecha','Precio']].groupby(by = pd.Grouper(key='Fecha', freq='M')).mean()\n",
    "plt.figure(figsize=(16,5))\n",
    "plt.plot(PromedioDiario,  color='red')\n",
    "plt.plot(PromedioMensual,  color='yellow')\n",
    "plt.legend(['P_Diario','P_Mensual'])\n",
    "plt.title('Precio promedio diario - Precio promedio mensual') \n",
    "plt.ylabel('Precio')\n",
    "plt.xlabel('Año')"
   ]
  },
  {
   "cell_type": "markdown",
   "metadata": {},
   "source": [
    "---"
   ]
  }
 ],
 "metadata": {
  "anaconda-cloud": {},
  "kernel_info": {
   "name": "python3"
  },
  "kernelspec": {
   "display_name": "Python 3",
   "language": "python",
   "name": "python3"
  },
  "language_info": {
   "codemirror_mode": {
    "name": "ipython",
    "version": 3
   },
   "file_extension": ".py",
   "mimetype": "text/x-python",
   "name": "python",
   "nbconvert_exporter": "python",
   "pygments_lexer": "ipython3",
   "version": "3.7.4"
  },
  "nteract": {
   "version": "0.7.1"
  }
 },
 "nbformat": 4,
 "nbformat_minor": 4
}
